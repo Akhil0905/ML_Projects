{
 "cells": [
  {
   "cell_type": "code",
   "execution_count": 1,
   "id": "4f719880-4691-4d3b-8b52-c5da293bfae6",
   "metadata": {},
   "outputs": [
    {
     "name": "stderr",
     "output_type": "stream",
     "text": [
      "2025-03-04 21:25:37.706579: E external/local_xla/xla/stream_executor/cuda/cuda_fft.cc:477] Unable to register cuFFT factory: Attempting to register factory for plugin cuFFT when one has already been registered\n",
      "WARNING: All log messages before absl::InitializeLog() is called are written to STDERR\n",
      "E0000 00:00:1741141537.783086   10888 cuda_dnn.cc:8310] Unable to register cuDNN factory: Attempting to register factory for plugin cuDNN when one has already been registered\n",
      "E0000 00:00:1741141537.804623   10888 cuda_blas.cc:1418] Unable to register cuBLAS factory: Attempting to register factory for plugin cuBLAS when one has already been registered\n",
      "2025-03-04 21:25:37.988701: I tensorflow/core/platform/cpu_feature_guard.cc:210] This TensorFlow binary is optimized to use available CPU instructions in performance-critical operations.\n",
      "To enable the following instructions: AVX2 FMA, in other operations, rebuild TensorFlow with the appropriate compiler flags.\n"
     ]
    }
   ],
   "source": [
    "import tensorflow as tf\n",
    "from tensorflow.keras.layers import Layer\n",
    "\n",
    "class RatioLayer(Layer):\n",
    "    def __init__(self, **kwargs):\n",
    "        super(RatioLayer, self).__init__(**kwargs)\n",
    "\n",
    "    def call(self, inputs):\n",
    "        open_price = inputs[..., ::4]   \n",
    "        high_price = inputs[..., 1::4]  \n",
    "        low_price = inputs[..., 2::4]  \n",
    "        close_price = inputs[..., 3::4] \n",
    "\n",
    "        high_open_ratio = (high_price - open_price) / open_price\n",
    "        low_open_ratio = (low_price - open_price) / open_price\n",
    "        close_open_ratio = (close_price - open_price) / open_price\n",
    "\n",
    "        return tf.concat([high_open_ratio, low_open_ratio, close_open_ratio], axis=-1) \n",
    "\n",
    "class InverseLayer(Layer):\n",
    "    def __init__(self, **kwargs):\n",
    "        super(InverseLayer, self).__init__(**kwargs)\n",
    "\n",
    "    def call(self, inputs):\n",
    "        open_price = inputs[..., ::4]   \n",
    "        high_price = inputs[..., 1::4]  \n",
    "        low_price = inputs[..., 2::4]   \n",
    "        close_price = inputs[..., 3::4]\n",
    "\n",
    "        inv_open = 1.0 / tf.maximum(open_price, 1e-6)  \n",
    "        inv_high = 1.0 / tf.maximum(high_price, 1e-6)\n",
    "        inv_low = 1.0 / tf.maximum(low_price, 1e-6)\n",
    "        inv_close = 1.0 / tf.maximum(close_price, 1e-6)\n",
    "\n",
    "        return tf.concat([inv_open, inv_high, inv_low, inv_close], axis=-1)  "
   ]
  }
 ],
 "metadata": {
  "kernelspec": {
   "display_name": "Python 3 (ipykernel)",
   "language": "python",
   "name": "python3"
  },
  "language_info": {
   "codemirror_mode": {
    "name": "ipython",
    "version": 3
   },
   "file_extension": ".py",
   "mimetype": "text/x-python",
   "name": "python",
   "nbconvert_exporter": "python",
   "pygments_lexer": "ipython3",
   "version": "3.12.8"
  }
 },
 "nbformat": 4,
 "nbformat_minor": 5
}
