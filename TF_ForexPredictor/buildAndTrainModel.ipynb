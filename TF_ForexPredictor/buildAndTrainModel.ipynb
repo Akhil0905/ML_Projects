{
 "cells": [
  {
   "cell_type": "code",
   "execution_count": 1,
   "id": "2315fb00-da53-47a2-a799-84c222229e21",
   "metadata": {},
   "outputs": [
    {
     "name": "stderr",
     "output_type": "stream",
     "text": [
      "2025-03-04 22:42:45.217736: E external/local_xla/xla/stream_executor/cuda/cuda_fft.cc:477] Unable to register cuFFT factory: Attempting to register factory for plugin cuFFT when one has already been registered\n",
      "WARNING: All log messages before absl::InitializeLog() is called are written to STDERR\n",
      "E0000 00:00:1741146165.230017   16866 cuda_dnn.cc:8310] Unable to register cuDNN factory: Attempting to register factory for plugin cuDNN when one has already been registered\n",
      "E0000 00:00:1741146165.233408   16866 cuda_blas.cc:1418] Unable to register cuBLAS factory: Attempting to register factory for plugin cuBLAS when one has already been registered\n",
      "2025-03-04 22:42:45.248405: I tensorflow/core/platform/cpu_feature_guard.cc:210] This TensorFlow binary is optimized to use available CPU instructions in performance-critical operations.\n",
      "To enable the following instructions: AVX2 FMA, in other operations, rebuild TensorFlow with the appropriate compiler flags.\n",
      "I0000 00:00:1741146171.518249   16866 gpu_device.cc:2022] Created device /job:localhost/replica:0/task:0/device:GPU:0 with 5563 MB memory:  -> device: 0, name: NVIDIA GeForce RTX 4060 Laptop GPU, pci bus id: 0000:01:00.0, compute capability: 8.9\n",
      "2025-03-04 22:42:51.708580: I tensorflow/core/kernels/data/tf_record_dataset_op.cc:370] TFRecordDataset `buffer_size` is unspecified, default to 262144\n",
      "2025-03-04 22:42:56.234368: I tensorflow/core/framework/local_rendezvous.cc:405] Local rendezvous is aborting with status: OUT_OF_RANGE: End of sequence\n"
     ]
    },
    {
     "name": "stdout",
     "output_type": "stream",
     "text": [
      "✅ Total dataset size: 29588\n",
      " Train: 20711, Validation: 4438, Test: 4439\n"
     ]
    },
    {
     "name": "stderr",
     "output_type": "stream",
     "text": [
      "2025-03-04 22:42:58.194846: I tensorflow/core/framework/local_rendezvous.cc:405] Local rendezvous is aborting with status: OUT_OF_RANGE: End of sequence\n"
     ]
    },
    {
     "name": "stdout",
     "output_type": "stream",
     "text": [
      "\n",
      " Model Training...\n",
      "\n",
      "Epoch 1/20\n"
     ]
    },
    {
     "name": "stderr",
     "output_type": "stream",
     "text": [
      "/home/akhil_tom/miniconda3/envs/AppliedML_tfcuda/lib/python3.12/site-packages/keras/src/layers/layer.py:938: UserWarning: Layer 'flatten' (of type Flatten) was passed an input with a mask attached to it. However, this layer does not support masking and will therefore destroy the mask information. Downstream layers will not see the mask.\n",
      "  warnings.warn(\n"
     ]
    },
    {
     "name": "stdout",
     "output_type": "stream",
     "text": [
      "\u001b[1m323/323\u001b[0m \u001b[32m━━━━━━━━━━━━━━━━━━━━\u001b[0m\u001b[37m\u001b[0m \u001b[1m9s\u001b[0m 16ms/step - accuracy: 0.1879 - loss: 2.8037 - val_accuracy: 0.0029 - val_loss: 8.6388\n",
      "Epoch 2/20\n",
      "\u001b[1m  1/323\u001b[0m \u001b[37m━━━━━━━━━━━━━━━━━━━━\u001b[0m \u001b[1m7s\u001b[0m 22ms/step - accuracy: 0.1795 - loss: 2.5023"
     ]
    },
    {
     "name": "stderr",
     "output_type": "stream",
     "text": [
      "2025-03-04 22:43:09.154030: I tensorflow/core/framework/local_rendezvous.cc:405] Local rendezvous is aborting with status: OUT_OF_RANGE: End of sequence\n",
      "\t [[{{node IteratorGetNext}}]]\n",
      "2025-03-04 22:43:09.154120: I tensorflow/core/framework/local_rendezvous.cc:424] Local rendezvous recv item cancelled. Key hash: 4670084778613932285\n",
      "2025-03-04 22:43:09.154137: I tensorflow/core/framework/local_rendezvous.cc:424] Local rendezvous recv item cancelled. Key hash: 14876655026548204741\n",
      "2025-03-04 22:43:09.154146: I tensorflow/core/framework/local_rendezvous.cc:424] Local rendezvous recv item cancelled. Key hash: 10743761814813009321\n",
      "2025-03-04 22:43:09.154154: I tensorflow/core/framework/local_rendezvous.cc:424] Local rendezvous recv item cancelled. Key hash: 11035436740309923193\n",
      "2025-03-04 22:43:09.154161: I tensorflow/core/framework/local_rendezvous.cc:424] Local rendezvous recv item cancelled. Key hash: 14084602296768849985\n",
      "2025-03-04 22:43:09.154168: I tensorflow/core/framework/local_rendezvous.cc:424] Local rendezvous recv item cancelled. Key hash: 529670619456776559\n",
      "2025-03-04 22:43:09.154176: I tensorflow/core/framework/local_rendezvous.cc:424] Local rendezvous recv item cancelled. Key hash: 12218315107075575626\n",
      "/home/akhil_tom/miniconda3/envs/AppliedML_tfcuda/lib/python3.12/site-packages/keras/src/trainers/epoch_iterator.py:151: UserWarning: Your input ran out of data; interrupting training. Make sure that your dataset or generator can generate at least `steps_per_epoch * epochs` batches. You may need to use the `.repeat()` function when building your dataset.\n",
      "  self._interrupted_warning()\n",
      "2025-03-04 22:43:09.220994: I tensorflow/core/framework/local_rendezvous.cc:424] Local rendezvous recv item cancelled. Key hash: 16994070569355696253\n",
      "2025-03-04 22:43:09.221063: I tensorflow/core/framework/local_rendezvous.cc:424] Local rendezvous recv item cancelled. Key hash: 8616470878313560579\n",
      "2025-03-04 22:43:09.221078: I tensorflow/core/framework/local_rendezvous.cc:424] Local rendezvous recv item cancelled. Key hash: 14847529329621378695\n",
      "2025-03-04 22:43:09.221086: I tensorflow/core/framework/local_rendezvous.cc:424] Local rendezvous recv item cancelled. Key hash: 17868746844823537251\n",
      "2025-03-04 22:43:09.221096: I tensorflow/core/framework/local_rendezvous.cc:424] Local rendezvous recv item cancelled. Key hash: 2642682714144639520\n",
      "2025-03-04 22:43:09.221103: I tensorflow/core/framework/local_rendezvous.cc:424] Local rendezvous recv item cancelled. Key hash: 2085685237309493880\n",
      "2025-03-04 22:43:09.221110: I tensorflow/core/framework/local_rendezvous.cc:424] Local rendezvous recv item cancelled. Key hash: 17548133524312246910\n"
     ]
    },
    {
     "name": "stdout",
     "output_type": "stream",
     "text": [
      "\u001b[1m323/323\u001b[0m \u001b[32m━━━━━━━━━━━━━━━━━━━━\u001b[0m\u001b[37m\u001b[0m \u001b[1m1s\u001b[0m 2ms/step - accuracy: 0.1795 - loss: 2.5023 - val_accuracy: 0.0029 - val_loss: 8.5702\n",
      "Epoch 3/20\n",
      "\u001b[1m  7/323\u001b[0m \u001b[37m━━━━━━━━━━━━━━━━━━━━\u001b[0m \u001b[1m6s\u001b[0m 21ms/step - accuracy: 0.2715 - loss: 2.2118"
     ]
    },
    {
     "name": "stderr",
     "output_type": "stream",
     "text": [
      "2025-03-04 22:43:09.792082: I tensorflow/core/framework/local_rendezvous.cc:405] Local rendezvous is aborting with status: OUT_OF_RANGE: End of sequence\n",
      "\t [[{{node IteratorGetNext}}]]\n",
      "2025-03-04 22:43:09.792157: I tensorflow/core/framework/local_rendezvous.cc:424] Local rendezvous recv item cancelled. Key hash: 4670084778613932285\n",
      "2025-03-04 22:43:09.792173: I tensorflow/core/framework/local_rendezvous.cc:424] Local rendezvous recv item cancelled. Key hash: 14876655026548204741\n",
      "2025-03-04 22:43:09.792182: I tensorflow/core/framework/local_rendezvous.cc:424] Local rendezvous recv item cancelled. Key hash: 11035436740309923193\n",
      "2025-03-04 22:43:09.792189: I tensorflow/core/framework/local_rendezvous.cc:424] Local rendezvous recv item cancelled. Key hash: 10743761814813009321\n",
      "2025-03-04 22:43:09.792196: I tensorflow/core/framework/local_rendezvous.cc:424] Local rendezvous recv item cancelled. Key hash: 14084602296768849985\n",
      "2025-03-04 22:43:09.792203: I tensorflow/core/framework/local_rendezvous.cc:424] Local rendezvous recv item cancelled. Key hash: 529670619456776559\n",
      "2025-03-04 22:43:09.792211: I tensorflow/core/framework/local_rendezvous.cc:424] Local rendezvous recv item cancelled. Key hash: 12218315107075575626\n"
     ]
    },
    {
     "name": "stdout",
     "output_type": "stream",
     "text": [
      "\u001b[1m323/323\u001b[0m \u001b[32m━━━━━━━━━━━━━━━━━━━━\u001b[0m\u001b[37m\u001b[0m \u001b[1m7s\u001b[0m 23ms/step - accuracy: 0.2437 - loss: 2.2539 - val_accuracy: 0.1582 - val_loss: 3.7919\n",
      "Epoch 4/20\n",
      "\u001b[1m  1/323\u001b[0m \u001b[37m━━━━━━━━━━━━━━━━━━━━\u001b[0m \u001b[1m9s\u001b[0m 30ms/step - accuracy: 0.2308 - loss: 2.4425"
     ]
    },
    {
     "name": "stderr",
     "output_type": "stream",
     "text": [
      "2025-03-04 22:43:17.082811: I tensorflow/core/framework/local_rendezvous.cc:424] Local rendezvous recv item cancelled. Key hash: 4670084778613932285\n",
      "2025-03-04 22:43:17.082883: I tensorflow/core/framework/local_rendezvous.cc:424] Local rendezvous recv item cancelled. Key hash: 14876655026548204741\n",
      "2025-03-04 22:43:17.082898: I tensorflow/core/framework/local_rendezvous.cc:424] Local rendezvous recv item cancelled. Key hash: 10743761814813009321\n",
      "2025-03-04 22:43:17.082907: I tensorflow/core/framework/local_rendezvous.cc:424] Local rendezvous recv item cancelled. Key hash: 11035436740309923193\n",
      "2025-03-04 22:43:17.082914: I tensorflow/core/framework/local_rendezvous.cc:424] Local rendezvous recv item cancelled. Key hash: 14084602296768849985\n",
      "2025-03-04 22:43:17.082921: I tensorflow/core/framework/local_rendezvous.cc:424] Local rendezvous recv item cancelled. Key hash: 529670619456776559\n",
      "2025-03-04 22:43:17.082930: I tensorflow/core/framework/local_rendezvous.cc:424] Local rendezvous recv item cancelled. Key hash: 12218315107075575626\n",
      "2025-03-04 22:43:17.134875: I tensorflow/core/framework/local_rendezvous.cc:424] Local rendezvous recv item cancelled. Key hash: 16994070569355696253\n",
      "2025-03-04 22:43:17.134967: I tensorflow/core/framework/local_rendezvous.cc:424] Local rendezvous recv item cancelled. Key hash: 8616470878313560579\n",
      "2025-03-04 22:43:17.134986: I tensorflow/core/framework/local_rendezvous.cc:424] Local rendezvous recv item cancelled. Key hash: 14847529329621378695\n",
      "2025-03-04 22:43:17.135001: I tensorflow/core/framework/local_rendezvous.cc:424] Local rendezvous recv item cancelled. Key hash: 2642682714144639520\n",
      "2025-03-04 22:43:17.135011: I tensorflow/core/framework/local_rendezvous.cc:424] Local rendezvous recv item cancelled. Key hash: 2085685237309493880\n",
      "2025-03-04 22:43:17.135022: I tensorflow/core/framework/local_rendezvous.cc:424] Local rendezvous recv item cancelled. Key hash: 14233755933227775620\n"
     ]
    },
    {
     "name": "stdout",
     "output_type": "stream",
     "text": [
      "\u001b[1m323/323\u001b[0m \u001b[32m━━━━━━━━━━━━━━━━━━━━\u001b[0m\u001b[37m\u001b[0m \u001b[1m1s\u001b[0m 2ms/step - accuracy: 0.2308 - loss: 2.4425 - val_accuracy: 0.1568 - val_loss: 3.8534\n",
      "Epoch 5/20\n",
      "\u001b[1m  7/323\u001b[0m \u001b[37m━━━━━━━━━━━━━━━━━━━━\u001b[0m \u001b[1m6s\u001b[0m 21ms/step - accuracy: 0.2586 - loss: 2.1743"
     ]
    },
    {
     "name": "stderr",
     "output_type": "stream",
     "text": [
      "2025-03-04 22:43:17.715040: I tensorflow/core/framework/local_rendezvous.cc:424] Local rendezvous recv item cancelled. Key hash: 4670084778613932285\n",
      "2025-03-04 22:43:17.715098: I tensorflow/core/framework/local_rendezvous.cc:424] Local rendezvous recv item cancelled. Key hash: 14876655026548204741\n",
      "2025-03-04 22:43:17.715109: I tensorflow/core/framework/local_rendezvous.cc:424] Local rendezvous recv item cancelled. Key hash: 11035436740309923193\n",
      "2025-03-04 22:43:17.715115: I tensorflow/core/framework/local_rendezvous.cc:424] Local rendezvous recv item cancelled. Key hash: 10743761814813009321\n",
      "2025-03-04 22:43:17.715120: I tensorflow/core/framework/local_rendezvous.cc:424] Local rendezvous recv item cancelled. Key hash: 14084602296768849985\n",
      "2025-03-04 22:43:17.715125: I tensorflow/core/framework/local_rendezvous.cc:424] Local rendezvous recv item cancelled. Key hash: 529670619456776559\n",
      "2025-03-04 22:43:17.715132: I tensorflow/core/framework/local_rendezvous.cc:424] Local rendezvous recv item cancelled. Key hash: 12218315107075575626\n"
     ]
    },
    {
     "name": "stdout",
     "output_type": "stream",
     "text": [
      "\u001b[1m323/323\u001b[0m \u001b[32m━━━━━━━━━━━━━━━━━━━━\u001b[0m\u001b[37m\u001b[0m \u001b[1m7s\u001b[0m 23ms/step - accuracy: 0.2502 - loss: 2.1950 - val_accuracy: 0.1598 - val_loss: 3.3226\n",
      "Epoch 6/20\n",
      "\u001b[1m  1/323\u001b[0m \u001b[37m━━━━━━━━━━━━━━━━━━━━\u001b[0m \u001b[1m7s\u001b[0m 23ms/step - accuracy: 0.2821 - loss: 2.4407"
     ]
    },
    {
     "name": "stderr",
     "output_type": "stream",
     "text": [
      "2025-03-04 22:43:25.009014: I tensorflow/core/framework/local_rendezvous.cc:405] Local rendezvous is aborting with status: OUT_OF_RANGE: End of sequence\n",
      "\t [[{{node IteratorGetNext}}]]\n",
      "2025-03-04 22:43:25.009096: I tensorflow/core/framework/local_rendezvous.cc:424] Local rendezvous recv item cancelled. Key hash: 4670084778613932285\n",
      "2025-03-04 22:43:25.009113: I tensorflow/core/framework/local_rendezvous.cc:424] Local rendezvous recv item cancelled. Key hash: 14876655026548204741\n",
      "2025-03-04 22:43:25.009123: I tensorflow/core/framework/local_rendezvous.cc:424] Local rendezvous recv item cancelled. Key hash: 11035436740309923193\n",
      "2025-03-04 22:43:25.009131: I tensorflow/core/framework/local_rendezvous.cc:424] Local rendezvous recv item cancelled. Key hash: 10743761814813009321\n",
      "2025-03-04 22:43:25.009139: I tensorflow/core/framework/local_rendezvous.cc:424] Local rendezvous recv item cancelled. Key hash: 14084602296768849985\n",
      "2025-03-04 22:43:25.009146: I tensorflow/core/framework/local_rendezvous.cc:424] Local rendezvous recv item cancelled. Key hash: 529670619456776559\n",
      "2025-03-04 22:43:25.009155: I tensorflow/core/framework/local_rendezvous.cc:424] Local rendezvous recv item cancelled. Key hash: 12218315107075575626\n",
      "2025-03-04 22:43:25.054823: I tensorflow/core/framework/local_rendezvous.cc:424] Local rendezvous recv item cancelled. Key hash: 16994070569355696253\n",
      "2025-03-04 22:43:25.054893: I tensorflow/core/framework/local_rendezvous.cc:424] Local rendezvous recv item cancelled. Key hash: 8616470878313560579\n",
      "2025-03-04 22:43:25.054911: I tensorflow/core/framework/local_rendezvous.cc:424] Local rendezvous recv item cancelled. Key hash: 14847529329621378695\n",
      "2025-03-04 22:43:25.054920: I tensorflow/core/framework/local_rendezvous.cc:424] Local rendezvous recv item cancelled. Key hash: 17868746844823537251\n",
      "2025-03-04 22:43:25.054932: I tensorflow/core/framework/local_rendezvous.cc:424] Local rendezvous recv item cancelled. Key hash: 2642682714144639520\n",
      "2025-03-04 22:43:25.054940: I tensorflow/core/framework/local_rendezvous.cc:424] Local rendezvous recv item cancelled. Key hash: 2085685237309493880\n",
      "2025-03-04 22:43:25.054949: I tensorflow/core/framework/local_rendezvous.cc:424] Local rendezvous recv item cancelled. Key hash: 17548133524312246910\n"
     ]
    },
    {
     "name": "stdout",
     "output_type": "stream",
     "text": [
      "\u001b[1m323/323\u001b[0m \u001b[32m━━━━━━━━━━━━━━━━━━━━\u001b[0m\u001b[37m\u001b[0m \u001b[1m1s\u001b[0m 2ms/step - accuracy: 0.2821 - loss: 2.4407 - val_accuracy: 0.1532 - val_loss: 3.4043\n",
      "Epoch 7/20\n",
      "\u001b[1m  7/323\u001b[0m \u001b[37m━━━━━━━━━━━━━━━━━━━━\u001b[0m \u001b[1m6s\u001b[0m 20ms/step - accuracy: 0.2408 - loss: 2.1543 "
     ]
    },
    {
     "name": "stderr",
     "output_type": "stream",
     "text": [
      "2025-03-04 22:43:25.797424: I tensorflow/core/framework/local_rendezvous.cc:424] Local rendezvous recv item cancelled. Key hash: 4670084778613932285\n",
      "2025-03-04 22:43:25.797513: I tensorflow/core/framework/local_rendezvous.cc:424] Local rendezvous recv item cancelled. Key hash: 14876655026548204741\n",
      "2025-03-04 22:43:25.797531: I tensorflow/core/framework/local_rendezvous.cc:424] Local rendezvous recv item cancelled. Key hash: 11035436740309923193\n",
      "2025-03-04 22:43:25.797541: I tensorflow/core/framework/local_rendezvous.cc:424] Local rendezvous recv item cancelled. Key hash: 10743761814813009321\n",
      "2025-03-04 22:43:25.797549: I tensorflow/core/framework/local_rendezvous.cc:424] Local rendezvous recv item cancelled. Key hash: 14084602296768849985\n",
      "2025-03-04 22:43:25.797557: I tensorflow/core/framework/local_rendezvous.cc:424] Local rendezvous recv item cancelled. Key hash: 529670619456776559\n",
      "2025-03-04 22:43:25.797580: I tensorflow/core/framework/local_rendezvous.cc:424] Local rendezvous recv item cancelled. Key hash: 12218315107075575626\n"
     ]
    },
    {
     "name": "stdout",
     "output_type": "stream",
     "text": [
      "\u001b[1m323/323\u001b[0m \u001b[32m━━━━━━━━━━━━━━━━━━━━\u001b[0m\u001b[37m\u001b[0m \u001b[1m7s\u001b[0m 22ms/step - accuracy: 0.2502 - loss: 2.1604 - val_accuracy: 0.2729 - val_loss: 2.8100\n",
      "Epoch 8/20\n",
      "\u001b[1m  1/323\u001b[0m \u001b[37m━━━━━━━━━━━━━━━━━━━━\u001b[0m \u001b[1m5s\u001b[0m 18ms/step - accuracy: 0.2308 - loss: 2.2836"
     ]
    },
    {
     "name": "stderr",
     "output_type": "stream",
     "text": [
      "2025-03-04 22:43:33.017566: I tensorflow/core/framework/local_rendezvous.cc:424] Local rendezvous recv item cancelled. Key hash: 4670084778613932285\n",
      "2025-03-04 22:43:33.017636: I tensorflow/core/framework/local_rendezvous.cc:424] Local rendezvous recv item cancelled. Key hash: 14876655026548204741\n",
      "2025-03-04 22:43:33.017652: I tensorflow/core/framework/local_rendezvous.cc:424] Local rendezvous recv item cancelled. Key hash: 11035436740309923193\n",
      "2025-03-04 22:43:33.017660: I tensorflow/core/framework/local_rendezvous.cc:424] Local rendezvous recv item cancelled. Key hash: 10743761814813009321\n",
      "2025-03-04 22:43:33.017668: I tensorflow/core/framework/local_rendezvous.cc:424] Local rendezvous recv item cancelled. Key hash: 14084602296768849985\n",
      "2025-03-04 22:43:33.017675: I tensorflow/core/framework/local_rendezvous.cc:424] Local rendezvous recv item cancelled. Key hash: 529670619456776559\n",
      "2025-03-04 22:43:33.017683: I tensorflow/core/framework/local_rendezvous.cc:424] Local rendezvous recv item cancelled. Key hash: 12218315107075575626\n",
      "2025-03-04 22:43:33.055211: I tensorflow/core/framework/local_rendezvous.cc:424] Local rendezvous recv item cancelled. Key hash: 8616470878313560579\n",
      "2025-03-04 22:43:33.055281: I tensorflow/core/framework/local_rendezvous.cc:424] Local rendezvous recv item cancelled. Key hash: 14847529329621378695\n",
      "2025-03-04 22:43:33.055300: I tensorflow/core/framework/local_rendezvous.cc:424] Local rendezvous recv item cancelled. Key hash: 2642682714144639520\n",
      "2025-03-04 22:43:33.055308: I tensorflow/core/framework/local_rendezvous.cc:424] Local rendezvous recv item cancelled. Key hash: 2085685237309493880\n",
      "2025-03-04 22:43:33.055316: I tensorflow/core/framework/local_rendezvous.cc:424] Local rendezvous recv item cancelled. Key hash: 14233755933227775620\n"
     ]
    },
    {
     "name": "stdout",
     "output_type": "stream",
     "text": [
      "\u001b[1m323/323\u001b[0m \u001b[32m━━━━━━━━━━━━━━━━━━━━\u001b[0m\u001b[37m\u001b[0m \u001b[1m1s\u001b[0m 2ms/step - accuracy: 0.2308 - loss: 2.2836 - val_accuracy: 0.2729 - val_loss: 2.7775\n",
      "Epoch 9/20\n",
      "\u001b[1m  7/323\u001b[0m \u001b[37m━━━━━━━━━━━━━━━━━━━━\u001b[0m \u001b[1m6s\u001b[0m 21ms/step - accuracy: 0.2238 - loss: 2.0857"
     ]
    },
    {
     "name": "stderr",
     "output_type": "stream",
     "text": [
      "2025-03-04 22:43:33.611297: I tensorflow/core/framework/local_rendezvous.cc:424] Local rendezvous recv item cancelled. Key hash: 4670084778613932285\n",
      "2025-03-04 22:43:33.611370: I tensorflow/core/framework/local_rendezvous.cc:424] Local rendezvous recv item cancelled. Key hash: 14876655026548204741\n",
      "2025-03-04 22:43:33.611387: I tensorflow/core/framework/local_rendezvous.cc:424] Local rendezvous recv item cancelled. Key hash: 11035436740309923193\n",
      "2025-03-04 22:43:33.611395: I tensorflow/core/framework/local_rendezvous.cc:424] Local rendezvous recv item cancelled. Key hash: 10743761814813009321\n",
      "2025-03-04 22:43:33.611402: I tensorflow/core/framework/local_rendezvous.cc:424] Local rendezvous recv item cancelled. Key hash: 14084602296768849985\n",
      "2025-03-04 22:43:33.611409: I tensorflow/core/framework/local_rendezvous.cc:424] Local rendezvous recv item cancelled. Key hash: 529670619456776559\n",
      "2025-03-04 22:43:33.611418: I tensorflow/core/framework/local_rendezvous.cc:424] Local rendezvous recv item cancelled. Key hash: 12218315107075575626\n"
     ]
    },
    {
     "name": "stdout",
     "output_type": "stream",
     "text": [
      "\u001b[1m323/323\u001b[0m \u001b[32m━━━━━━━━━━━━━━━━━━━━\u001b[0m\u001b[37m\u001b[0m \u001b[1m4s\u001b[0m 13ms/step - accuracy: 0.2509 - loss: 2.1316 - val_accuracy: 0.2713 - val_loss: 2.1233\n",
      "Epoch 10/20\n",
      "\u001b[1m  1/323\u001b[0m \u001b[37m━━━━━━━━━━━━━━━━━━━━\u001b[0m \u001b[1m10s\u001b[0m 33ms/step - accuracy: 0.2821 - loss: 2.2732"
     ]
    },
    {
     "name": "stderr",
     "output_type": "stream",
     "text": [
      "2025-03-04 22:43:37.900959: I tensorflow/core/framework/local_rendezvous.cc:424] Local rendezvous recv item cancelled. Key hash: 4670084778613932285\n",
      "2025-03-04 22:43:37.901031: I tensorflow/core/framework/local_rendezvous.cc:424] Local rendezvous recv item cancelled. Key hash: 14876655026548204741\n",
      "2025-03-04 22:43:37.901047: I tensorflow/core/framework/local_rendezvous.cc:424] Local rendezvous recv item cancelled. Key hash: 10743761814813009321\n",
      "2025-03-04 22:43:37.901056: I tensorflow/core/framework/local_rendezvous.cc:424] Local rendezvous recv item cancelled. Key hash: 11035436740309923193\n",
      "2025-03-04 22:43:37.901063: I tensorflow/core/framework/local_rendezvous.cc:424] Local rendezvous recv item cancelled. Key hash: 14084602296768849985\n",
      "2025-03-04 22:43:37.901071: I tensorflow/core/framework/local_rendezvous.cc:424] Local rendezvous recv item cancelled. Key hash: 529670619456776559\n",
      "2025-03-04 22:43:37.901079: I tensorflow/core/framework/local_rendezvous.cc:424] Local rendezvous recv item cancelled. Key hash: 12218315107075575626\n",
      "2025-03-04 22:43:37.952758: I tensorflow/core/framework/local_rendezvous.cc:424] Local rendezvous recv item cancelled. Key hash: 8616470878313560579\n",
      "2025-03-04 22:43:37.952812: I tensorflow/core/framework/local_rendezvous.cc:424] Local rendezvous recv item cancelled. Key hash: 14847529329621378695\n",
      "2025-03-04 22:43:37.952826: I tensorflow/core/framework/local_rendezvous.cc:424] Local rendezvous recv item cancelled. Key hash: 2642682714144639520\n",
      "2025-03-04 22:43:37.952833: I tensorflow/core/framework/local_rendezvous.cc:424] Local rendezvous recv item cancelled. Key hash: 2085685237309493880\n",
      "2025-03-04 22:43:37.952838: I tensorflow/core/framework/local_rendezvous.cc:424] Local rendezvous recv item cancelled. Key hash: 14233755933227775620\n"
     ]
    },
    {
     "name": "stdout",
     "output_type": "stream",
     "text": [
      "\u001b[1m323/323\u001b[0m \u001b[32m━━━━━━━━━━━━━━━━━━━━\u001b[0m\u001b[37m\u001b[0m \u001b[1m1s\u001b[0m 2ms/step - accuracy: 0.2821 - loss: 2.2732 - val_accuracy: 0.2704 - val_loss: 2.1277\n",
      "Epoch 11/20\n",
      "\u001b[1m  7/323\u001b[0m \u001b[37m━━━━━━━━━━━━━━━━━━━━\u001b[0m \u001b[1m5s\u001b[0m 19ms/step - accuracy: 0.2698 - loss: 2.0988"
     ]
    },
    {
     "name": "stderr",
     "output_type": "stream",
     "text": [
      "2025-03-04 22:43:38.496235: I tensorflow/core/framework/local_rendezvous.cc:405] Local rendezvous is aborting with status: OUT_OF_RANGE: End of sequence\n",
      "\t [[{{node IteratorGetNext}}]]\n",
      "2025-03-04 22:43:38.496310: I tensorflow/core/framework/local_rendezvous.cc:424] Local rendezvous recv item cancelled. Key hash: 4670084778613932285\n",
      "2025-03-04 22:43:38.496325: I tensorflow/core/framework/local_rendezvous.cc:424] Local rendezvous recv item cancelled. Key hash: 14876655026548204741\n",
      "2025-03-04 22:43:38.496334: I tensorflow/core/framework/local_rendezvous.cc:424] Local rendezvous recv item cancelled. Key hash: 10743761814813009321\n",
      "2025-03-04 22:43:38.496342: I tensorflow/core/framework/local_rendezvous.cc:424] Local rendezvous recv item cancelled. Key hash: 11035436740309923193\n",
      "2025-03-04 22:43:38.496349: I tensorflow/core/framework/local_rendezvous.cc:424] Local rendezvous recv item cancelled. Key hash: 14084602296768849985\n",
      "2025-03-04 22:43:38.496356: I tensorflow/core/framework/local_rendezvous.cc:424] Local rendezvous recv item cancelled. Key hash: 529670619456776559\n",
      "2025-03-04 22:43:38.496364: I tensorflow/core/framework/local_rendezvous.cc:424] Local rendezvous recv item cancelled. Key hash: 12218315107075575626\n"
     ]
    },
    {
     "name": "stdout",
     "output_type": "stream",
     "text": [
      "\u001b[1m323/323\u001b[0m \u001b[32m━━━━━━━━━━━━━━━━━━━━\u001b[0m\u001b[37m\u001b[0m \u001b[1m7s\u001b[0m 22ms/step - accuracy: 0.2625 - loss: 2.1173 - val_accuracy: 0.2778 - val_loss: 2.0793\n",
      "Epoch 12/20\n",
      "\u001b[1m  1/323\u001b[0m \u001b[37m━━━━━━━━━━━━━━━━━━━━\u001b[0m \u001b[1m6s\u001b[0m 19ms/step - accuracy: 0.2564 - loss: 2.2283"
     ]
    },
    {
     "name": "stderr",
     "output_type": "stream",
     "text": [
      "2025-03-04 22:43:45.492387: I tensorflow/core/framework/local_rendezvous.cc:424] Local rendezvous recv item cancelled. Key hash: 4670084778613932285\n",
      "2025-03-04 22:43:45.492445: I tensorflow/core/framework/local_rendezvous.cc:424] Local rendezvous recv item cancelled. Key hash: 14876655026548204741\n",
      "2025-03-04 22:43:45.492457: I tensorflow/core/framework/local_rendezvous.cc:424] Local rendezvous recv item cancelled. Key hash: 11035436740309923193\n",
      "2025-03-04 22:43:45.492463: I tensorflow/core/framework/local_rendezvous.cc:424] Local rendezvous recv item cancelled. Key hash: 10743761814813009321\n",
      "2025-03-04 22:43:45.492468: I tensorflow/core/framework/local_rendezvous.cc:424] Local rendezvous recv item cancelled. Key hash: 14084602296768849985\n",
      "2025-03-04 22:43:45.492473: I tensorflow/core/framework/local_rendezvous.cc:424] Local rendezvous recv item cancelled. Key hash: 529670619456776559\n",
      "2025-03-04 22:43:45.492479: I tensorflow/core/framework/local_rendezvous.cc:424] Local rendezvous recv item cancelled. Key hash: 12218315107075575626\n",
      "2025-03-04 22:43:45.533694: I tensorflow/core/framework/local_rendezvous.cc:424] Local rendezvous recv item cancelled. Key hash: 8616470878313560579\n",
      "2025-03-04 22:43:45.533759: I tensorflow/core/framework/local_rendezvous.cc:424] Local rendezvous recv item cancelled. Key hash: 14847529329621378695\n",
      "2025-03-04 22:43:45.533776: I tensorflow/core/framework/local_rendezvous.cc:424] Local rendezvous recv item cancelled. Key hash: 2642682714144639520\n",
      "2025-03-04 22:43:45.533785: I tensorflow/core/framework/local_rendezvous.cc:424] Local rendezvous recv item cancelled. Key hash: 2085685237309493880\n",
      "2025-03-04 22:43:45.533793: I tensorflow/core/framework/local_rendezvous.cc:424] Local rendezvous recv item cancelled. Key hash: 14233755933227775620\n"
     ]
    },
    {
     "name": "stdout",
     "output_type": "stream",
     "text": [
      "\u001b[1m323/323\u001b[0m \u001b[32m━━━━━━━━━━━━━━━━━━━━\u001b[0m\u001b[37m\u001b[0m \u001b[1m1s\u001b[0m 2ms/step - accuracy: 0.2564 - loss: 2.2283 - val_accuracy: 0.2778 - val_loss: 2.0795\n",
      "Epoch 13/20\n",
      "\u001b[1m  7/323\u001b[0m \u001b[37m━━━━━━━━━━━━━━━━━━━━\u001b[0m \u001b[1m6s\u001b[0m 20ms/step - accuracy: 0.2420 - loss: 2.0750"
     ]
    },
    {
     "name": "stderr",
     "output_type": "stream",
     "text": [
      "2025-03-04 22:43:46.092362: I tensorflow/core/framework/local_rendezvous.cc:424] Local rendezvous recv item cancelled. Key hash: 4670084778613932285\n",
      "2025-03-04 22:43:46.092436: I tensorflow/core/framework/local_rendezvous.cc:424] Local rendezvous recv item cancelled. Key hash: 14876655026548204741\n",
      "2025-03-04 22:43:46.092452: I tensorflow/core/framework/local_rendezvous.cc:424] Local rendezvous recv item cancelled. Key hash: 10743761814813009321\n",
      "2025-03-04 22:43:46.092461: I tensorflow/core/framework/local_rendezvous.cc:424] Local rendezvous recv item cancelled. Key hash: 11035436740309923193\n",
      "2025-03-04 22:43:46.092468: I tensorflow/core/framework/local_rendezvous.cc:424] Local rendezvous recv item cancelled. Key hash: 14084602296768849985\n",
      "2025-03-04 22:43:46.092475: I tensorflow/core/framework/local_rendezvous.cc:424] Local rendezvous recv item cancelled. Key hash: 529670619456776559\n",
      "2025-03-04 22:43:46.092484: I tensorflow/core/framework/local_rendezvous.cc:424] Local rendezvous recv item cancelled. Key hash: 12218315107075575626\n"
     ]
    },
    {
     "name": "stdout",
     "output_type": "stream",
     "text": [
      "\u001b[1m323/323\u001b[0m \u001b[32m━━━━━━━━━━━━━━━━━━━━\u001b[0m\u001b[37m\u001b[0m \u001b[1m7s\u001b[0m 22ms/step - accuracy: 0.2565 - loss: 2.1232 - val_accuracy: 0.2729 - val_loss: 3.0335\n",
      "Epoch 14/20\n",
      "\u001b[1m  1/323\u001b[0m \u001b[37m━━━━━━━━━━━━━━━━━━━━\u001b[0m \u001b[1m8s\u001b[0m 26ms/step - accuracy: 0.2821 - loss: 2.3209"
     ]
    },
    {
     "name": "stderr",
     "output_type": "stream",
     "text": [
      "2025-03-04 22:43:53.205915: I tensorflow/core/framework/local_rendezvous.cc:424] Local rendezvous recv item cancelled. Key hash: 4670084778613932285\n",
      "2025-03-04 22:43:53.205986: I tensorflow/core/framework/local_rendezvous.cc:424] Local rendezvous recv item cancelled. Key hash: 14876655026548204741\n",
      "2025-03-04 22:43:53.206002: I tensorflow/core/framework/local_rendezvous.cc:424] Local rendezvous recv item cancelled. Key hash: 11035436740309923193\n",
      "2025-03-04 22:43:53.206010: I tensorflow/core/framework/local_rendezvous.cc:424] Local rendezvous recv item cancelled. Key hash: 10743761814813009321\n",
      "2025-03-04 22:43:53.206018: I tensorflow/core/framework/local_rendezvous.cc:424] Local rendezvous recv item cancelled. Key hash: 14084602296768849985\n",
      "2025-03-04 22:43:53.206025: I tensorflow/core/framework/local_rendezvous.cc:424] Local rendezvous recv item cancelled. Key hash: 529670619456776559\n",
      "2025-03-04 22:43:53.206033: I tensorflow/core/framework/local_rendezvous.cc:424] Local rendezvous recv item cancelled. Key hash: 12218315107075575626\n",
      "2025-03-04 22:43:53.243129: I tensorflow/core/framework/local_rendezvous.cc:424] Local rendezvous recv item cancelled. Key hash: 8616470878313560579\n",
      "2025-03-04 22:43:53.243206: I tensorflow/core/framework/local_rendezvous.cc:424] Local rendezvous recv item cancelled. Key hash: 14847529329621378695\n",
      "2025-03-04 22:43:53.243223: I tensorflow/core/framework/local_rendezvous.cc:424] Local rendezvous recv item cancelled. Key hash: 2642682714144639520\n",
      "2025-03-04 22:43:53.243230: I tensorflow/core/framework/local_rendezvous.cc:424] Local rendezvous recv item cancelled. Key hash: 2085685237309493880\n",
      "2025-03-04 22:43:53.243236: I tensorflow/core/framework/local_rendezvous.cc:424] Local rendezvous recv item cancelled. Key hash: 14233755933227775620\n"
     ]
    },
    {
     "name": "stdout",
     "output_type": "stream",
     "text": [
      "\u001b[1m323/323\u001b[0m \u001b[32m━━━━━━━━━━━━━━━━━━━━\u001b[0m\u001b[37m\u001b[0m \u001b[1m1s\u001b[0m 2ms/step - accuracy: 0.2821 - loss: 2.3209 - val_accuracy: 0.2729 - val_loss: 3.0566\n",
      "Epoch 15/20\n",
      "\u001b[1m  6/323\u001b[0m \u001b[37m━━━━━━━━━━━━━━━━━━━━\u001b[0m \u001b[1m7s\u001b[0m 24ms/step - accuracy: 0.2472 - loss: 2.1287"
     ]
    },
    {
     "name": "stderr",
     "output_type": "stream",
     "text": [
      "2025-03-04 22:43:53.806149: I tensorflow/core/framework/local_rendezvous.cc:424] Local rendezvous recv item cancelled. Key hash: 4670084778613932285\n",
      "2025-03-04 22:43:53.806209: I tensorflow/core/framework/local_rendezvous.cc:424] Local rendezvous recv item cancelled. Key hash: 14876655026548204741\n",
      "2025-03-04 22:43:53.806221: I tensorflow/core/framework/local_rendezvous.cc:424] Local rendezvous recv item cancelled. Key hash: 11035436740309923193\n",
      "2025-03-04 22:43:53.806227: I tensorflow/core/framework/local_rendezvous.cc:424] Local rendezvous recv item cancelled. Key hash: 10743761814813009321\n",
      "2025-03-04 22:43:53.806232: I tensorflow/core/framework/local_rendezvous.cc:424] Local rendezvous recv item cancelled. Key hash: 14084602296768849985\n",
      "2025-03-04 22:43:53.806237: I tensorflow/core/framework/local_rendezvous.cc:424] Local rendezvous recv item cancelled. Key hash: 529670619456776559\n",
      "2025-03-04 22:43:53.806243: I tensorflow/core/framework/local_rendezvous.cc:424] Local rendezvous recv item cancelled. Key hash: 12218315107075575626\n"
     ]
    },
    {
     "name": "stdout",
     "output_type": "stream",
     "text": [
      "\u001b[1m323/323\u001b[0m \u001b[32m━━━━━━━━━━━━━━━━━━━━\u001b[0m\u001b[37m\u001b[0m \u001b[1m8s\u001b[0m 24ms/step - accuracy: 0.2536 - loss: 2.1317 - val_accuracy: 0.2729 - val_loss: 2.4040\n",
      "Epoch 16/20\n",
      "\u001b[1m  1/323\u001b[0m \u001b[37m━━━━━━━━━━━━━━━━━━━━\u001b[0m \u001b[1m6s\u001b[0m 20ms/step - accuracy: 0.4103 - loss: 2.1549"
     ]
    },
    {
     "name": "stderr",
     "output_type": "stream",
     "text": [
      "2025-03-04 22:44:01.518943: I tensorflow/core/framework/local_rendezvous.cc:424] Local rendezvous recv item cancelled. Key hash: 4670084778613932285\n",
      "2025-03-04 22:44:01.519002: I tensorflow/core/framework/local_rendezvous.cc:424] Local rendezvous recv item cancelled. Key hash: 529670619456776559\n",
      "2025-03-04 22:44:01.519014: I tensorflow/core/framework/local_rendezvous.cc:424] Local rendezvous recv item cancelled. Key hash: 2122689796032431775\n",
      "2025-03-04 22:44:01.549458: I tensorflow/core/framework/local_rendezvous.cc:424] Local rendezvous recv item cancelled. Key hash: 8616470878313560579\n",
      "2025-03-04 22:44:01.549531: I tensorflow/core/framework/local_rendezvous.cc:424] Local rendezvous recv item cancelled. Key hash: 14847529329621378695\n",
      "2025-03-04 22:44:01.549551: I tensorflow/core/framework/local_rendezvous.cc:424] Local rendezvous recv item cancelled. Key hash: 2642682714144639520\n",
      "2025-03-04 22:44:01.549560: I tensorflow/core/framework/local_rendezvous.cc:424] Local rendezvous recv item cancelled. Key hash: 2085685237309493880\n",
      "2025-03-04 22:44:01.549569: I tensorflow/core/framework/local_rendezvous.cc:424] Local rendezvous recv item cancelled. Key hash: 14233755933227775620\n"
     ]
    },
    {
     "name": "stdout",
     "output_type": "stream",
     "text": [
      "\u001b[1m323/323\u001b[0m \u001b[32m━━━━━━━━━━━━━━━━━━━━\u001b[0m\u001b[37m\u001b[0m \u001b[1m1s\u001b[0m 2ms/step - accuracy: 0.4103 - loss: 2.1549 - val_accuracy: 0.2729 - val_loss: 2.3146\n"
     ]
    },
    {
     "name": "stderr",
     "output_type": "stream",
     "text": [
      "2025-03-04 22:44:02.108230: I tensorflow/core/framework/local_rendezvous.cc:424] Local rendezvous recv item cancelled. Key hash: 4670084778613932285\n",
      "2025-03-04 22:44:02.108299: I tensorflow/core/framework/local_rendezvous.cc:424] Local rendezvous recv item cancelled. Key hash: 14876655026548204741\n",
      "2025-03-04 22:44:02.108314: I tensorflow/core/framework/local_rendezvous.cc:424] Local rendezvous recv item cancelled. Key hash: 10743761814813009321\n",
      "2025-03-04 22:44:02.108323: I tensorflow/core/framework/local_rendezvous.cc:424] Local rendezvous recv item cancelled. Key hash: 11035436740309923193\n",
      "2025-03-04 22:44:02.108330: I tensorflow/core/framework/local_rendezvous.cc:424] Local rendezvous recv item cancelled. Key hash: 14084602296768849985\n",
      "2025-03-04 22:44:02.108337: I tensorflow/core/framework/local_rendezvous.cc:424] Local rendezvous recv item cancelled. Key hash: 529670619456776559\n",
      "2025-03-04 22:44:02.108346: I tensorflow/core/framework/local_rendezvous.cc:424] Local rendezvous recv item cancelled. Key hash: 12218315107075575626\n"
     ]
    },
    {
     "name": "stdout",
     "output_type": "stream",
     "text": [
      "\n",
      " Model Training Completed!\n",
      "\n",
      "\n",
      " Model Evaluation...\n",
      "\n",
      "\u001b[1m70/70\u001b[0m \u001b[32m━━━━━━━━━━━━━━━━━━━━\u001b[0m\u001b[37m\u001b[0m \u001b[1m1s\u001b[0m 9ms/step - accuracy: 0.2790 - loss: 2.1281\n",
      "\n",
      " Model Evaluation Completed!\n",
      "Test Loss: 2.1117, Test Accuracy: 0.2726\n",
      "\n",
      " Model Saved Successfully as 'mySavedModel.keras'!\n",
      "\n"
     ]
    },
    {
     "name": "stderr",
     "output_type": "stream",
     "text": [
      "2025-03-04 22:44:03.450076: I tensorflow/core/framework/local_rendezvous.cc:424] Local rendezvous recv item cancelled. Key hash: 4670084778613932285\n",
      "2025-03-04 22:44:03.450149: I tensorflow/core/framework/local_rendezvous.cc:424] Local rendezvous recv item cancelled. Key hash: 14876655026548204741\n",
      "2025-03-04 22:44:03.450166: I tensorflow/core/framework/local_rendezvous.cc:424] Local rendezvous recv item cancelled. Key hash: 11035436740309923193\n",
      "2025-03-04 22:44:03.450176: I tensorflow/core/framework/local_rendezvous.cc:424] Local rendezvous recv item cancelled. Key hash: 10743761814813009321\n",
      "2025-03-04 22:44:03.450183: I tensorflow/core/framework/local_rendezvous.cc:424] Local rendezvous recv item cancelled. Key hash: 14084602296768849985\n",
      "2025-03-04 22:44:03.450190: I tensorflow/core/framework/local_rendezvous.cc:424] Local rendezvous recv item cancelled. Key hash: 529670619456776559\n",
      "2025-03-04 22:44:03.450199: I tensorflow/core/framework/local_rendezvous.cc:424] Local rendezvous recv item cancelled. Key hash: 12218315107075575626\n"
     ]
    }
   ],
   "source": [
    "import tensorflow as tf\n",
    "from tensorflow.keras.layers import (Input, Dense, Embedding, Concatenate, StringLookup, Normalization, Flatten, \n",
    "                                     Lambda, Dropout, BatchNormalization, ELU, Reshape)\n",
    "from tensorflow.keras.models import Model\n",
    "from tensorflow.keras.optimizers import Adam\n",
    "from tensorflow.keras.regularizers import l2\n",
    "from tensorflow.data import TFRecordDataset\n",
    "from customRatioLayerDefinition import RatioLayer, InverseLayer\n",
    "\n",
    "# feature description\n",
    "feature_description = {\n",
    "    'tickers': tf.io.FixedLenFeature((288,), tf.float32),  \n",
    "    'hourType': tf.io.FixedLenFeature((34,), tf.string),   \n",
    "    'weekday': tf.io.FixedLenFeature((1,), tf.int64),\n",
    "    'hour': tf.io.FixedLenFeature((1,), tf.int64),\n",
    "    'month': tf.io.FixedLenFeature((1,), tf.int64),\n",
    "    'target': tf.io.FixedLenFeature((1,), tf.int64),\n",
    "}\n",
    "\n",
    "def parse_example(serialized_example):\n",
    "    example = tf.io.parse_single_example(serialized_example, feature_description)\n",
    "\n",
    "    example['tickers'] = tf.reshape(example['tickers'], [288])  \n",
    "    example['hourType'] = tf.reshape(example['hourType'], [34])  \n",
    "\n",
    "    example['weekday'] = tf.cast(example['weekday'], tf.int32)\n",
    "    example['hour'] = tf.cast(example['hour'], tf.int32)\n",
    "    example['month'] = tf.cast(example['month'], tf.int32)\n",
    "    example['target'] = tf.cast(example['target'], tf.int32)\n",
    "\n",
    "    return example, example[\"target\"]\n",
    "\n",
    "# Load dataset\n",
    "raw_dataset = TFRecordDataset(\"dataset.tfrecord\").map(parse_example)\n",
    "data_size = sum(1 for _ in raw_dataset)\n",
    "print(f\"✅ Total dataset size: {data_size}\")\n",
    "\n",
    "# Train/Val/Test split\n",
    "train_size = int(0.7 * data_size)\n",
    "val_size = int(0.15 * data_size)\n",
    "test_size = data_size - (train_size + val_size)\n",
    "\n",
    "dataset = TFRecordDataset(\"dataset.tfrecord\").map(parse_example)\n",
    "train_dataset = dataset.take(train_size)\n",
    "val_dataset = dataset.skip(train_size).take(val_size)\n",
    "test_dataset = dataset.skip(train_size + val_size)\n",
    "\n",
    "batch_size = 64\n",
    "steps_per_epoch = train_size // batch_size\n",
    "\n",
    "train_dataset = train_dataset.batch(batch_size).cache().prefetch(1)\n",
    "val_dataset = val_dataset.batch(batch_size).cache().prefetch(1)\n",
    "test_dataset = test_dataset.batch(batch_size).cache().prefetch(1)\n",
    "\n",
    "print(f\" Train: {train_size}, Validation: {val_size}, Test: {test_size}\")\n",
    "\n",
    "hourType_vocab = set()\n",
    "for raw_example in raw_dataset.take(10000):  \n",
    "    hourType_vocab.update(raw_example[0]['hourType'].numpy().astype(str))\n",
    "hourType_vocab = sorted(hourType_vocab)\n",
    "\n",
    "hourType_lookup = StringLookup(\n",
    "    vocabulary=hourType_vocab, output_mode=\"int\", num_oov_indices=1, mask_token=None\n",
    ")\n",
    "\n",
    "tickers_input = Input(shape=(288,), dtype=tf.float32, name=\"tickers\")  \n",
    "hourType_input = Input(shape=(34,), dtype=tf.string, name=\"hourType\")  \n",
    "weekday_input = Input(shape=(), dtype=tf.int32, name=\"weekday\")\n",
    "hour_input = Input(shape=(), dtype=tf.int32, name=\"hour\")\n",
    "month_input = Input(shape=(), dtype=tf.int32, name=\"month\")\n",
    "\n",
    "# RatioLayer & InverseLayer \n",
    "ratio_output = RatioLayer()(tickers_input)\n",
    "inverse_output = InverseLayer()(tickers_input)\n",
    "\n",
    "normalizer = Normalization()\n",
    "normalizer.adapt(train_dataset.map(lambda x, y: x[\"tickers\"]))\n",
    "norm_output = normalizer(tickers_input)\n",
    "\n",
    "hourType_indices = hourType_lookup(hourType_input)\n",
    "hourType_embed = Embedding(input_dim=len(hourType_vocab) + 2, output_dim=16, mask_zero=True)(hourType_indices)\n",
    "\n",
    "weekday_embed = Embedding(input_dim=7, output_dim=12)(weekday_input)\n",
    "hour_embed = Embedding(input_dim=24, output_dim=12)(hour_input)\n",
    "month_embed = Embedding(input_dim=12, output_dim=12)(month_input)\n",
    "\n",
    "hourType_embed = Flatten()(hourType_embed)  \n",
    "weekday_embed = Flatten()(weekday_embed)  \n",
    "hour_embed = Flatten()(hour_embed) \n",
    "month_embed = Flatten()(month_embed)  \n",
    "\n",
    "merged_features = Concatenate(axis=-1)([\n",
    "    norm_output,        \n",
    "    ratio_output,       \n",
    "    inverse_output,    \n",
    "    hourType_embed,    \n",
    "    weekday_embed,      \n",
    "    hour_embed,        \n",
    "    month_embed    \n",
    "])\n",
    "\n",
    "merged_features = Flatten()(merged_features)\n",
    "\n",
    "# Model Architecture\n",
    "x = Dense(1024, kernel_regularizer=l2(0.0001))(merged_features)\n",
    "x = BatchNormalization()(x)\n",
    "x = ELU()(x)\n",
    "x = Dropout(0.2)(x)\n",
    "\n",
    "x = Dense(512, kernel_regularizer=l2(0.0001))(x)\n",
    "x = BatchNormalization()(x)\n",
    "x = ELU()(x)\n",
    "x = Dropout(0.2)(x)\n",
    "\n",
    "x = Dense(256, kernel_regularizer=l2(0.0001))(x)\n",
    "x = BatchNormalization()(x)\n",
    "x = ELU()(x)\n",
    "x = Dropout(0.2)(x)\n",
    "\n",
    "output = Dense(26, activation=\"softmax\")(x)\n",
    "\n",
    "model = Model(inputs=[tickers_input, hourType_input, weekday_input, hour_input, month_input], outputs=output)\n",
    "\n",
    "# Learning Rate\n",
    "lr_schedule = tf.keras.optimizers.schedules.CosineDecayRestarts(\n",
    "    initial_learning_rate=0.001, first_decay_steps=2000, t_mul=2.0, m_mul=0.8\n",
    ")\n",
    "\n",
    "# Compile Model\n",
    "model.compile(optimizer=Adam(learning_rate=lr_schedule),\n",
    "              loss=\"sparse_categorical_crossentropy\",\n",
    "              metrics=[\"accuracy\"])\n",
    "\n",
    "# Early Stopping\n",
    "early_stopping = tf.keras.callbacks.EarlyStopping(monitor='val_loss', patience=5, restore_best_weights=True)\n",
    "\n",
    "print(\"\\n Model Training...\\n\")\n",
    "history = model.fit(\n",
    "    train_dataset,\n",
    "    validation_data=val_dataset,\n",
    "    epochs=20,\n",
    "    steps_per_epoch=steps_per_epoch,\n",
    "    callbacks=[early_stopping]\n",
    ")\n",
    "print(\"\\n Model Training Completed!\\n\")\n",
    "\n",
    "# Evaluate Model\n",
    "print(\"\\n Model Evaluation...\\n\")\n",
    "test_loss, test_acc = model.evaluate(test_dataset)\n",
    "print(f\"\\n Model Evaluation Completed!\")\n",
    "print(f\"Test Loss: {test_loss:.4f}, Test Accuracy: {test_acc:.4f}\")\n",
    "\n",
    "# Save Model\n",
    "model.save(\"mySavedModel.keras\")\n",
    "print(\"\\n Model Saved Successfully as 'mySavedModel.keras'!\\n\")\n"
   ]
  }
 ],
 "metadata": {
  "kernelspec": {
   "display_name": "Python 3 (ipykernel)",
   "language": "python",
   "name": "python3"
  },
  "language_info": {
   "codemirror_mode": {
    "name": "ipython",
    "version": 3
   },
   "file_extension": ".py",
   "mimetype": "text/x-python",
   "name": "python",
   "nbconvert_exporter": "python",
   "pygments_lexer": "ipython3",
   "version": "3.12.8"
  }
 },
 "nbformat": 4,
 "nbformat_minor": 5
}
