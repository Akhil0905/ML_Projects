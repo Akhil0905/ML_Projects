{
 "cells": [
  {
   "cell_type": "code",
   "execution_count": 1,
   "id": "11f0c987-175a-430d-a202-24db45f31ab1",
   "metadata": {},
   "outputs": [
    {
     "name": "stderr",
     "output_type": "stream",
     "text": [
      "2025-03-04 22:38:52.944084: E external/local_xla/xla/stream_executor/cuda/cuda_fft.cc:477] Unable to register cuFFT factory: Attempting to register factory for plugin cuFFT when one has already been registered\n",
      "WARNING: All log messages before absl::InitializeLog() is called are written to STDERR\n",
      "E0000 00:00:1741145933.034505   16647 cuda_dnn.cc:8310] Unable to register cuDNN factory: Attempting to register factory for plugin cuDNN when one has already been registered\n",
      "E0000 00:00:1741145933.060270   16647 cuda_blas.cc:1418] Unable to register cuBLAS factory: Attempting to register factory for plugin cuBLAS when one has already been registered\n",
      "2025-03-04 22:38:53.249422: I tensorflow/core/platform/cpu_feature_guard.cc:210] This TensorFlow binary is optimized to use available CPU instructions in performance-critical operations.\n",
      "To enable the following instructions: AVX2 FMA, in other operations, rebuild TensorFlow with the appropriate compiler flags.\n",
      "/tmp/ipykernel_16647/3100846377.py:21: FutureWarning: DataFrame.fillna with 'method' is deprecated and will raise in a future version. Use obj.ffill() or obj.bfill() instead.\n",
      "  df[instrument_columns] = df[instrument_columns].fillna(method='ffill').fillna(0)\n"
     ]
    }
   ],
   "source": [
    "import pandas as pd\n",
    "import numpy as np\n",
    "import tensorflow as tf\n",
    "\n",
    "def create_saved_dataset(input_csv, output_tfrecords):\n",
    "    df = pd.read_csv(input_csv)\n",
    "    df['date'] = pd.to_datetime(df['date'], errors='coerce')\n",
    "\n",
    "    bins = np.linspace(0.005 / 25, 0.005, 25)\n",
    "    df['target'] = np.digitize(df['target'], bins).astype(np.int64)\n",
    "\n",
    "    df['weekday'] = df['date'].dt.weekday\n",
    "    df['hour'] = df['date'].dt.hour\n",
    "    df['month'] = df['date'].dt.month\n",
    "\n",
    "    hour_type_columns = [col for col in df.columns if 'hourType' in col]\n",
    "\n",
    "    exclude_columns = ['date', 'target', 'weekday', 'hour', 'month'] + hour_type_columns\n",
    "    instrument_columns = [col for col in df.columns if col not in exclude_columns]\n",
    "\n",
    "    df[instrument_columns] = df[instrument_columns].fillna(method='ffill').fillna(0)\n",
    "\n",
    "    if hour_type_columns:\n",
    "        df[hour_type_columns] = df[hour_type_columns].astype(str)\n",
    "    else:\n",
    "        df['hourType'] = 'unknown'  \n",
    "\n",
    "    # Write to TFRecord\n",
    "    with tf.io.TFRecordWriter(output_tfrecords) as writer:\n",
    "        for _, row in df.iterrows():\n",
    "            feature = {\n",
    "                'tickers': tf.train.Feature(float_list=tf.train.FloatList(value=row[instrument_columns].values.astype(np.float32))),\n",
    "                'hourType': tf.train.Feature(bytes_list=tf.train.BytesList(value=[row[col].encode() for col in hour_type_columns])),\n",
    "                'weekday': tf.train.Feature(int64_list=tf.train.Int64List(value=[row['weekday']])),\n",
    "                'hour': tf.train.Feature(int64_list=tf.train.Int64List(value=[row['hour']])),\n",
    "                'month': tf.train.Feature(int64_list=tf.train.Int64List(value=[row['month']])),\n",
    "                'target': tf.train.Feature(int64_list=tf.train.Int64List(value=[row['target']])),\n",
    "            }\n",
    "            example = tf.train.Example(features=tf.train.Features(feature=feature))\n",
    "            writer.write(example.SerializeToString())\n",
    "\n",
    "if __name__ == \"__main__\":\n",
    "    create_saved_dataset(\"gradAppML-assignment1-dataset.csv\", \"dataset.tfrecord\")\n"
   ]
  }
 ],
 "metadata": {
  "kernelspec": {
   "display_name": "Python 3 (ipykernel)",
   "language": "python",
   "name": "python3"
  },
  "language_info": {
   "codemirror_mode": {
    "name": "ipython",
    "version": 3
   },
   "file_extension": ".py",
   "mimetype": "text/x-python",
   "name": "python",
   "nbconvert_exporter": "python",
   "pygments_lexer": "ipython3",
   "version": "3.12.8"
  }
 },
 "nbformat": 4,
 "nbformat_minor": 5
}
