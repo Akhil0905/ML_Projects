{
 "cells": [
  {
   "cell_type": "code",
   "execution_count": 1,
   "id": "2a093b3b-0266-40a4-bc35-dbd2276ec63b",
   "metadata": {},
   "outputs": [
    {
     "name": "stderr",
     "output_type": "stream",
     "text": [
      "2025-02-27 03:16:03.574567: E external/local_xla/xla/stream_executor/cuda/cuda_fft.cc:477] Unable to register cuFFT factory: Attempting to register factory for plugin cuFFT when one has already been registered\n",
      "WARNING: All log messages before absl::InitializeLog() is called are written to STDERR\n",
      "E0000 00:00:1740644163.592674    5356 cuda_dnn.cc:8310] Unable to register cuDNN factory: Attempting to register factory for plugin cuDNN when one has already been registered\n",
      "E0000 00:00:1740644163.597501    5356 cuda_blas.cc:1418] Unable to register cuBLAS factory: Attempting to register factory for plugin cuBLAS when one has already been registered\n",
      "2025-02-27 03:16:03.620249: I tensorflow/core/platform/cpu_feature_guard.cc:210] This TensorFlow binary is optimized to use available CPU instructions in performance-critical operations.\n",
      "To enable the following instructions: AVX2 FMA, in other operations, rebuild TensorFlow with the appropriate compiler flags.\n",
      "I0000 00:00:1740644169.061754    5356 gpu_device.cc:2022] Created device /job:localhost/replica:0/task:0/device:GPU:0 with 5563 MB memory:  -> device: 0, name: NVIDIA GeForce RTX 4060 Laptop GPU, pci bus id: 0000:01:00.0, compute capability: 8.9\n"
     ]
    },
    {
     "name": "stdout",
     "output_type": "stream",
     "text": [
      "Epoch 1/15\n"
     ]
    },
    {
     "name": "stderr",
     "output_type": "stream",
     "text": [
      "2025-02-27 03:16:14.013568: I tensorflow/core/kernels/data/tf_record_dataset_op.cc:370] TFRecordDataset `buffer_size` is unspecified, default to 262144\n",
      "WARNING: All log messages before absl::InitializeLog() is called are written to STDERR\n",
      "I0000 00:00:1740644175.756179    5448 service.cc:148] XLA service 0x7f93c4002d10 initialized for platform CUDA (this does not guarantee that XLA will be used). Devices:\n",
      "I0000 00:00:1740644175.756234    5448 service.cc:156]   StreamExecutor device (0): NVIDIA GeForce RTX 4060 Laptop GPU, Compute Capability 8.9\n",
      "2025-02-27 03:16:15.939899: I tensorflow/compiler/mlir/tensorflow/utils/dump_mlir_util.cc:268] disabling MLIR crash reproducer, set env var `MLIR_CRASH_REPRODUCER_DIRECTORY` to enable.\n",
      "I0000 00:00:1740644176.663028    5448 cuda_dnn.cc:529] Loaded cuDNN version 90300\n",
      "I0000 00:00:1740644185.590960    5448 device_compiler.h:188] Compiled cluster using XLA!  This line is logged at most once for the lifetime of the process.\n"
     ]
    },
    {
     "name": "stdout",
     "output_type": "stream",
     "text": [
      "\u001b[1m160/160\u001b[0m \u001b[32m━━━━━━━━━━━━━━━━━━━━\u001b[0m\u001b[37m\u001b[0m \u001b[1m42s\u001b[0m 169ms/step - accuracy: 0.0213 - loss: 6.4950 - val_accuracy: 0.1156 - val_loss: 4.4649 - learning_rate: 0.0100\n",
      "Epoch 2/15\n",
      "\u001b[1m160/160\u001b[0m \u001b[32m━━━━━━━━━━━━━━━━━━━━\u001b[0m\u001b[37m\u001b[0m \u001b[1m25s\u001b[0m 158ms/step - accuracy: 0.1216 - loss: 4.6905 - val_accuracy: 0.1516 - val_loss: 4.1399 - learning_rate: 0.0080\n",
      "Epoch 3/15\n",
      "\u001b[1m160/160\u001b[0m \u001b[32m━━━━━━━━━━━━━━━━━━━━\u001b[0m\u001b[37m\u001b[0m \u001b[1m41s\u001b[0m 257ms/step - accuracy: 0.1949 - loss: 3.8953 - val_accuracy: 0.1793 - val_loss: 3.9245 - learning_rate: 0.0060\n",
      "Epoch 4/15\n",
      "\u001b[1m160/160\u001b[0m \u001b[32m━━━━━━━━━━━━━━━━━━━━\u001b[0m\u001b[37m\u001b[0m \u001b[1m25s\u001b[0m 155ms/step - accuracy: 0.2358 - loss: 3.5388 - val_accuracy: 0.2043 - val_loss: 3.7722 - learning_rate: 0.0041\n",
      "Epoch 5/15\n",
      "\u001b[1m160/160\u001b[0m \u001b[32m━━━━━━━━━━━━━━━━━━━━\u001b[0m\u001b[37m\u001b[0m \u001b[1m25s\u001b[0m 160ms/step - accuracy: 0.2876 - loss: 3.1999 - val_accuracy: 0.2078 - val_loss: 3.7207 - learning_rate: 0.0021\n",
      "Epoch 6/15\n",
      "\u001b[1m160/160\u001b[0m \u001b[32m━━━━━━━━━━━━━━━━━━━━\u001b[0m\u001b[37m\u001b[0m \u001b[1m23s\u001b[0m 145ms/step - accuracy: 0.2963 - loss: 3.1695 - val_accuracy: 0.2133 - val_loss: 3.7546 - learning_rate: 1.0000e-04\n",
      "Epoch 7/15\n",
      "\u001b[1m160/160\u001b[0m \u001b[32m━━━━━━━━━━━━━━━━━━━━\u001b[0m\u001b[37m\u001b[0m \u001b[1m25s\u001b[0m 156ms/step - accuracy: 0.3073 - loss: 3.1395 - val_accuracy: 0.2324 - val_loss: 3.6773 - learning_rate: 0.0021\n",
      "Epoch 8/15\n",
      "\u001b[1m160/160\u001b[0m \u001b[32m━━━━━━━━━━━━━━━━━━━━\u001b[0m\u001b[37m\u001b[0m \u001b[1m25s\u001b[0m 154ms/step - accuracy: 0.2983 - loss: 3.0759 - val_accuracy: 0.2195 - val_loss: 3.6729 - learning_rate: 0.0041\n",
      "Epoch 9/15\n",
      "\u001b[1m160/160\u001b[0m \u001b[32m━━━━━━━━━━━━━━━━━━━━\u001b[0m\u001b[37m\u001b[0m \u001b[1m25s\u001b[0m 154ms/step - accuracy: 0.3091 - loss: 3.0407 - val_accuracy: 0.2223 - val_loss: 3.7146 - learning_rate: 0.0060\n",
      "Epoch 10/15\n",
      "\u001b[1m160/160\u001b[0m \u001b[32m━━━━━━━━━━━━━━━━━━━━\u001b[0m\u001b[37m\u001b[0m \u001b[1m24s\u001b[0m 148ms/step - accuracy: 0.3346 - loss: 2.9411 - val_accuracy: 0.2359 - val_loss: 3.6520 - learning_rate: 0.0080\n",
      "Epoch 11/15\n",
      "\u001b[1m160/160\u001b[0m \u001b[32m━━━━━━━━━━━━━━━━━━━━\u001b[0m\u001b[37m\u001b[0m \u001b[1m25s\u001b[0m 156ms/step - accuracy: 0.3258 - loss: 2.9685 - val_accuracy: 0.2313 - val_loss: 3.7788 - learning_rate: 0.0100\n",
      "Epoch 12/15\n",
      "\u001b[1m160/160\u001b[0m \u001b[32m━━━━━━━━━━━━━━━━━━━━\u001b[0m\u001b[37m\u001b[0m \u001b[1m25s\u001b[0m 156ms/step - accuracy: 0.3487 - loss: 2.8550 - val_accuracy: 0.2391 - val_loss: 3.6167 - learning_rate: 0.0080\n",
      "Epoch 13/15\n",
      "\u001b[1m160/160\u001b[0m \u001b[32m━━━━━━━━━━━━━━━━━━━━\u001b[0m\u001b[37m\u001b[0m \u001b[1m23s\u001b[0m 147ms/step - accuracy: 0.3671 - loss: 2.7086 - val_accuracy: 0.2461 - val_loss: 3.6497 - learning_rate: 0.0060\n",
      "Epoch 14/15\n",
      "\u001b[1m160/160\u001b[0m \u001b[32m━━━━━━━━━━━━━━━━━━━━\u001b[0m\u001b[37m\u001b[0m \u001b[1m25s\u001b[0m 155ms/step - accuracy: 0.3774 - loss: 2.5914 - val_accuracy: 0.2562 - val_loss: 3.5965 - learning_rate: 0.0041\n",
      "Epoch 15/15\n",
      "\u001b[1m160/160\u001b[0m \u001b[32m━━━━━━━━━━━━━━━━━━━━\u001b[0m\u001b[37m\u001b[0m \u001b[1m25s\u001b[0m 155ms/step - accuracy: 0.4073 - loss: 2.4536 - val_accuracy: 0.2543 - val_loss: 3.5562 - learning_rate: 0.0021\n",
      "Restoring model weights from the end of the best epoch: 15.\n"
     ]
    },
    {
     "data": {
      "text/plain": [
       "<keras.src.callbacks.history.History at 0x7f94b39494c0>"
      ]
     },
     "execution_count": 1,
     "metadata": {},
     "output_type": "execute_result"
    }
   ],
   "source": [
    "import tensorflow as tf\n",
    "from tensorflow.keras.applications import ResNet50V2\n",
    "from tensorflow.keras.models import Model\n",
    "from tensorflow.keras.layers import Dense, GlobalAveragePooling2D, Dropout, BatchNormalization\n",
    "from tensorflow.keras.optimizers import SGD\n",
    "from tensorflow.keras.callbacks import ReduceLROnPlateau, EarlyStopping, LearningRateScheduler\n",
    "from tensorflow.keras.regularizers import l2\n",
    "\n",
    "\n",
    "data_augmentation = tf.keras.Sequential([\n",
    "    tf.keras.layers.RandomFlip(\"horizontal\"),\n",
    "    tf.keras.layers.RandomRotation(0.4),  \n",
    "    tf.keras.layers.RandomZoom(0.4),\n",
    "    tf.keras.layers.RandomContrast(0.3),\n",
    "])\n",
    "\n",
    "def load_dataset(tfrecord_file, batch_size=32, shuffle=True, repeat=True):\n",
    "    raw_dataset = tf.data.TFRecordDataset([tfrecord_file])\n",
    "    feature_description = {'image': tf.io.FixedLenFeature([], tf.string), 'label': tf.io.FixedLenFeature([], tf.int64)}\n",
    "\n",
    "    def parse_examples(serialized_examples):\n",
    "        examples = tf.io.parse_example(serialized_examples, feature_description)\n",
    "        targets = tf.cast(examples.pop('label'), tf.int64) \n",
    "\n",
    "        images = tf.image.decode_jpeg(examples['image'], channels=3)\n",
    "        images = tf.image.resize_with_pad(tf.cast(images, tf.float32), 299, 299) / 255.0 \n",
    "        images = data_augmentation(images)\n",
    "        return images, targets\n",
    "\n",
    "    dataset = raw_dataset.map(parse_examples, num_parallel_calls=tf.data.experimental.AUTOTUNE)\n",
    "    if shuffle:\n",
    "        dataset = dataset.shuffle(1000)\n",
    "    if repeat:\n",
    "        dataset = dataset.repeat()\n",
    "\n",
    "    dataset = dataset.batch(batch_size).prefetch(tf.data.experimental.AUTOTUNE)\n",
    "    return dataset\n",
    "\n",
    "\n",
    "train_dataset = load_dataset('birds-20-eachOf-256.tfrecords')\n",
    "val_dataset = load_dataset('birds-10-eachOf-256.tfrecords', shuffle=False, repeat=False)\n",
    "\n",
    "steps_per_epoch = 5120 // 32\n",
    "validation_steps = 2560 // 32\n",
    "\n",
    "# ResNet50V2 \n",
    "base_model = ResNet50V2(weights='imagenet', include_top=False, input_shape=(299, 299, 3))\n",
    "base_model.trainable = False\n",
    "\n",
    "# Custom Layers\n",
    "x = GlobalAveragePooling2D()(base_model.output)\n",
    "x = BatchNormalization()(x)\n",
    "x = Dropout(0.6)(x) \n",
    "x = Dense(1024, activation='relu')(x)  \n",
    "x = BatchNormalization()(x)\n",
    "x = Dropout(0.6)(x)\n",
    "out = Dense(256, activation='softmax')(x)  \n",
    "\n",
    "model = Model(inputs=base_model.input, outputs=out)\n",
    "\n",
    "def clr_schedule(epoch):\n",
    "    max_lr = 0.01 \n",
    "    min_lr = 0.0001\n",
    "    cycle = epoch % 10\n",
    "    lr = min_lr + (max_lr - min_lr) * abs((cycle / 5) - 1)\n",
    "    return lr\n",
    "\n",
    "lr_callback = LearningRateScheduler(clr_schedule)\n",
    "\n",
    "early_stopping = EarlyStopping(monitor='val_loss', patience=5, restore_best_weights=True, verbose=1)\n",
    "lr_decay = ReduceLROnPlateau(monitor='val_loss', factor=0.5, patience=3, verbose=1)\n",
    "\n",
    "model.compile(optimizer=SGD(learning_rate=0.01, momentum=0.9),\n",
    "              loss='sparse_categorical_crossentropy', metrics=['accuracy'])\n",
    "\n",
    "model.fit(train_dataset, validation_data=val_dataset, epochs=15, \n",
    "          steps_per_epoch=steps_per_epoch, validation_steps=validation_steps,\n",
    "          callbacks=[lr_callback, lr_decay, early_stopping])"
   ]
  },
  {
   "cell_type": "code",
   "execution_count": 2,
   "id": "39c3744e-e4e3-43f6-9289-7c8f12e8be53",
   "metadata": {},
   "outputs": [
    {
     "name": "stdout",
     "output_type": "stream",
     "text": [
      "Epoch 1/25\n",
      "\u001b[1m160/160\u001b[0m \u001b[32m━━━━━━━━━━━━━━━━━━━━\u001b[0m\u001b[37m\u001b[0m \u001b[1m42s\u001b[0m 177ms/step - accuracy: 0.2032 - loss: 4.0094 - val_accuracy: 0.0762 - val_loss: 20.9085 - learning_rate: 0.0100\n",
      "Epoch 2/25\n",
      "\u001b[1m160/160\u001b[0m \u001b[32m━━━━━━━━━━━━━━━━━━━━\u001b[0m\u001b[37m\u001b[0m \u001b[1m41s\u001b[0m 260ms/step - accuracy: 0.2300 - loss: 3.6021 - val_accuracy: 0.1895 - val_loss: 4.1114 - learning_rate: 0.0080\n",
      "Epoch 3/25\n",
      "\u001b[1m160/160\u001b[0m \u001b[32m━━━━━━━━━━━━━━━━━━━━\u001b[0m\u001b[37m\u001b[0m \u001b[1m26s\u001b[0m 164ms/step - accuracy: 0.3560 - loss: 2.7022 - val_accuracy: 0.2594 - val_loss: 3.4763 - learning_rate: 0.0060\n",
      "Epoch 4/25\n",
      "\u001b[1m160/160\u001b[0m \u001b[32m━━━━━━━━━━━━━━━━━━━━\u001b[0m\u001b[37m\u001b[0m \u001b[1m52s\u001b[0m 324ms/step - accuracy: 0.4496 - loss: 2.2001 - val_accuracy: 0.3086 - val_loss: 3.1294 - learning_rate: 0.0041\n",
      "Epoch 5/25\n",
      "\u001b[1m160/160\u001b[0m \u001b[32m━━━━━━━━━━━━━━━━━━━━\u001b[0m\u001b[37m\u001b[0m \u001b[1m36s\u001b[0m 223ms/step - accuracy: 0.5298 - loss: 1.7883 - val_accuracy: 0.3187 - val_loss: 3.0514 - learning_rate: 0.0021\n",
      "Epoch 6/25\n",
      "\u001b[1m160/160\u001b[0m \u001b[32m━━━━━━━━━━━━━━━━━━━━\u001b[0m\u001b[37m\u001b[0m \u001b[1m28s\u001b[0m 175ms/step - accuracy: 0.5737 - loss: 1.6287 - val_accuracy: 0.3473 - val_loss: 2.9788 - learning_rate: 1.0000e-04\n",
      "Epoch 7/25\n",
      "\u001b[1m160/160\u001b[0m \u001b[32m━━━━━━━━━━━━━━━━━━━━\u001b[0m\u001b[37m\u001b[0m \u001b[1m28s\u001b[0m 173ms/step - accuracy: 0.5537 - loss: 1.6818 - val_accuracy: 0.3379 - val_loss: 2.9714 - learning_rate: 0.0021\n",
      "Epoch 8/25\n",
      "\u001b[1m160/160\u001b[0m \u001b[32m━━━━━━━━━━━━━━━━━━━━\u001b[0m\u001b[37m\u001b[0m \u001b[1m27s\u001b[0m 166ms/step - accuracy: 0.5811 - loss: 1.5840 - val_accuracy: 0.3316 - val_loss: 3.0374 - learning_rate: 0.0041\n",
      "Epoch 9/25\n",
      "\u001b[1m160/160\u001b[0m \u001b[32m━━━━━━━━━━━━━━━━━━━━\u001b[0m\u001b[37m\u001b[0m \u001b[1m28s\u001b[0m 174ms/step - accuracy: 0.5861 - loss: 1.5175 - val_accuracy: 0.3234 - val_loss: 3.1678 - learning_rate: 0.0060\n",
      "Epoch 10/25\n",
      "\u001b[1m160/160\u001b[0m \u001b[32m━━━━━━━━━━━━━━━━━━━━\u001b[0m\u001b[37m\u001b[0m \u001b[1m0s\u001b[0m 120ms/step - accuracy: 0.5855 - loss: 1.5295 \n",
      "Epoch 10: ReduceLROnPlateau reducing learning rate to 0.004009999800473452.\n",
      "\u001b[1m160/160\u001b[0m \u001b[32m━━━━━━━━━━━━━━━━━━━━\u001b[0m\u001b[37m\u001b[0m \u001b[1m51s\u001b[0m 320ms/step - accuracy: 0.5853 - loss: 1.5300 - val_accuracy: 0.3043 - val_loss: 3.4909 - learning_rate: 0.0080\n",
      "Epoch 11/25\n",
      "\u001b[1m160/160\u001b[0m \u001b[32m━━━━━━━━━━━━━━━━━━━━\u001b[0m\u001b[37m\u001b[0m \u001b[1m28s\u001b[0m 176ms/step - accuracy: 0.5734 - loss: 1.5774 - val_accuracy: 0.2992 - val_loss: 3.5453 - learning_rate: 0.0100\n",
      "Epoch 12/25\n",
      "\u001b[1m160/160\u001b[0m \u001b[32m━━━━━━━━━━━━━━━━━━━━\u001b[0m\u001b[37m\u001b[0m \u001b[1m27s\u001b[0m 167ms/step - accuracy: 0.5698 - loss: 1.5863 - val_accuracy: 0.3227 - val_loss: 3.3111 - learning_rate: 0.0080\n",
      "Epoch 12: early stopping\n",
      "Restoring model weights from the end of the best epoch: 7.\n"
     ]
    },
    {
     "data": {
      "text/plain": [
       "<keras.src.callbacks.history.History at 0x7f94d47a2990>"
      ]
     },
     "execution_count": 2,
     "metadata": {},
     "output_type": "execute_result"
    }
   ],
   "source": [
    "# Fine Tuning\n",
    "base_model.trainable = True\n",
    "for layer in base_model.layers[:150]: \n",
    "    layer.trainable = False\n",
    "\n",
    "model.compile(optimizer=SGD(learning_rate=0.0001, momentum=0.9),\n",
    "              loss='sparse_categorical_crossentropy', metrics=['accuracy'])\n",
    "\n",
    "model.fit(train_dataset, validation_data=val_dataset, epochs=25, \n",
    "          steps_per_epoch=steps_per_epoch, validation_steps=validation_steps,\n",
    "          callbacks=[lr_callback, lr_decay, early_stopping])"
   ]
  },
  {
   "cell_type": "code",
   "execution_count": 3,
   "id": "18ffb64f-88c8-4e66-be62-7a7e114665e5",
   "metadata": {},
   "outputs": [],
   "source": [
    "model.save('birderModel.keras')"
   ]
  },
  {
   "cell_type": "code",
   "execution_count": 4,
   "id": "255e9c9b-b7b8-4eab-acb5-c4b4ab1bd4a8",
   "metadata": {},
   "outputs": [
    {
     "name": "stderr",
     "output_type": "stream",
     "text": [
      "2025-02-27 03:30:10.623826: E external/local_xla/xla/service/slow_operation_alarm.cc:65] Trying algorithm eng0{} for conv (f32[128,64,75,75]{3,2,1,0}, u8[0]{0}) custom-call(f32[128,64,75,75]{3,2,1,0}, f32[64,64,3,3]{3,2,1,0}), window={size=3x3 pad=1_1x1_1}, dim_labels=bf01_oi01->bf01, custom_call_target=\"__cudnn$convForward\", backend_config={\"cudnn_conv_backend_config\":{\"activation_mode\":\"kNone\",\"conv_result_scale\":1,\"leakyrelu_alpha\":0,\"side_input_scale\":0},\"force_earliest_schedule\":false,\"operation_queue_id\":\"0\",\"wait_on_operation_queues\":[]} is taking a while...\n",
      "2025-02-27 03:30:10.814213: E external/local_xla/xla/service/slow_operation_alarm.cc:133] The operation took 2.019265757s\n",
      "Trying algorithm eng0{} for conv (f32[128,64,75,75]{3,2,1,0}, u8[0]{0}) custom-call(f32[128,64,75,75]{3,2,1,0}, f32[64,64,3,3]{3,2,1,0}), window={size=3x3 pad=1_1x1_1}, dim_labels=bf01_oi01->bf01, custom_call_target=\"__cudnn$convForward\", backend_config={\"cudnn_conv_backend_config\":{\"activation_mode\":\"kNone\",\"conv_result_scale\":1,\"leakyrelu_alpha\":0,\"side_input_scale\":0},\"force_earliest_schedule\":false,\"operation_queue_id\":\"0\",\"wait_on_operation_queues\":[]} is taking a while...\n"
     ]
    },
    {
     "name": "stdout",
     "output_type": "stream",
     "text": [
      "\u001b[1m20/20\u001b[0m \u001b[32m━━━━━━━━━━━━━━━━━━━━\u001b[0m\u001b[37m\u001b[0m \u001b[1m27s\u001b[0m 265ms/step - accuracy: 0.3946 - loss: 2.6435 - top10: 0.7882 - top20: 0.8817 - top5: 0.6752\n",
      "\n",
      " Evaluation Metrics:\n",
      "🔹 Loss: 2.7899\n",
      "🔹 Accuracy: 37.07%\n",
      "🔹 Top-5 Accuracy: 65.55%\n",
      "🔹 Top-10 Accuracy: 76.99%\n",
      "🔹 Top-20 Accuracy: 86.68%\n"
     ]
    },
    {
     "name": "stderr",
     "output_type": "stream",
     "text": [
      "2025-02-27 03:30:30.494820: I tensorflow/core/framework/local_rendezvous.cc:405] Local rendezvous is aborting with status: OUT_OF_RANGE: End of sequence\n",
      "\t [[{{node IteratorGetNext}}]]\n",
      "2025-02-27 03:30:30.494934: I tensorflow/core/framework/local_rendezvous.cc:405] Local rendezvous is aborting with status: OUT_OF_RANGE: End of sequence\n",
      "\t [[{{node IteratorGetNext}}]]\n",
      "\t [[IteratorGetNext/_2]]\n",
      "/home/akhil_tom/miniconda3/envs/AppliedML_tfcuda/lib/python3.12/site-packages/keras/src/trainers/epoch_iterator.py:151: UserWarning: Your input ran out of data; interrupting training. Make sure that your dataset or generator can generate at least `steps_per_epoch * epochs` batches. You may need to use the `.repeat()` function when building your dataset.\n",
      "  self._interrupted_warning()\n"
     ]
    }
   ],
   "source": [
    "import tensorflow as tf\n",
    "raw_dataset = tf.data.TFRecordDataset(['birds-10-eachOf-256.tfrecords'])\n",
    "\n",
    "feature_description = {\n",
    "    'image': tf.io.FixedLenFeature([], tf.string),\n",
    "    'label': tf.io.FixedLenFeature([], tf.int64) \n",
    "}\n",
    "def parse_examples(serialized_examples):\n",
    "    examples = tf.io.parse_example(serialized_examples, feature_description)\n",
    "    targets = tf.cast(examples.pop('label'), tf.int64) \n",
    "    images = tf.image.decode_jpeg(examples['image'], channels=3)\n",
    "    images = tf.image.resize_with_pad(tf.cast(images, tf.float32), 299, 299) / 255.0  \n",
    "    return images, targets\n",
    "\n",
    "dataset = raw_dataset.map(parse_examples, num_parallel_calls=tf.data.experimental.AUTOTUNE).batch(128)\n",
    "\n",
    "model = tf.keras.models.load_model('birderModel.keras')\n",
    "\n",
    "# Performance Metrics\n",
    "top5err = tf.keras.metrics.SparseTopKCategoricalAccuracy(k=5, name='top5')\n",
    "top10err = tf.keras.metrics.SparseTopKCategoricalAccuracy(k=10, name='top10')\n",
    "top20err = tf.keras.metrics.SparseTopKCategoricalAccuracy(k=20, name='top20')\n",
    "model.compile(loss='sparse_categorical_crossentropy',\n",
    "              optimizer=tf.keras.optimizers.SGD(learning_rate=0.0001, momentum=0.9), \n",
    "              metrics=['accuracy', top5err, top10err, top20err])\n",
    "\n",
    "resp = model.evaluate(dataset)\n",
    "\n",
    "# Results\n",
    "print(\"\\n Evaluation Metrics:\")\n",
    "print(f\"🔹 Loss: {resp[0]:.4f}\")\n",
    "print(f\"🔹 Accuracy: {resp[1] * 100:.2f}%\")\n",
    "print(f\"🔹 Top-5 Accuracy: {resp[2] * 100:.2f}%\")\n",
    "print(f\"🔹 Top-10 Accuracy: {resp[3] * 100:.2f}%\")\n",
    "print(f\"🔹 Top-20 Accuracy: {resp[4] * 100:.2f}%\")\n"
   ]
  }
 ],
 "metadata": {
  "kernelspec": {
   "display_name": "Python 3 (ipykernel)",
   "language": "python",
   "name": "python3"
  },
  "language_info": {
   "codemirror_mode": {
    "name": "ipython",
    "version": 3
   },
   "file_extension": ".py",
   "mimetype": "text/x-python",
   "name": "python",
   "nbconvert_exporter": "python",
   "pygments_lexer": "ipython3",
   "version": "3.12.8"
  }
 },
 "nbformat": 4,
 "nbformat_minor": 5
}
